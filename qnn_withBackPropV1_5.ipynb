{
  "nbformat": 4,
  "nbformat_minor": 0,
  "metadata": {
    "kernelspec": {
      "display_name": "Python 3",
      "language": "python",
      "name": "python3"
    },
    "language_info": {
      "codemirror_mode": {
        "name": "ipython",
        "version": 3
      },
      "file_extension": ".py",
      "mimetype": "text/x-python",
      "name": "python",
      "nbconvert_exporter": "python",
      "pygments_lexer": "ipython3",
      "version": "3.7.3"
    },
    "colab": {
      "name": "qnn_withBackPropV1.5.ipynb",
      "provenance": [],
      "collapsed_sections": [],
      "include_colab_link": true
    }
  },
  "cells": [
    {
      "cell_type": "markdown",
      "metadata": {
        "id": "view-in-github",
        "colab_type": "text"
      },
      "source": [
        "<a href=\"https://colab.research.google.com/github/NattLuangsirapornchai/Quantum-project/blob/main/qnn_withBackPropV1_5.ipynb\" target=\"_parent\"><img src=\"https://colab.research.google.com/assets/colab-badge.svg\" alt=\"Open In Colab\"/></a>"
      ]
    },
    {
      "cell_type": "code",
      "metadata": {
        "id": "Si60K-UW-qHf",
        "colab": {
          "base_uri": "https://localhost:8080/",
          "height": 1000
        },
        "outputId": "38338207-d7a7-4e3c-b4d5-96da00fdfb97"
      },
      "source": [
        "!pip install qiskit==0.12.0"
      ],
      "execution_count": null,
      "outputs": [
        {
          "output_type": "stream",
          "text": [
            "Collecting qiskit==0.12.0\n",
            "  Downloading https://files.pythonhosted.org/packages/5a/d6/bbb178455616d8aabd4d9df5110681d847da8303d3bd81d856fc14f929eb/qiskit-0.12.0.tar.gz\n",
            "Collecting qiskit_terra==0.9.0\n",
            "\u001b[?25l  Downloading https://files.pythonhosted.org/packages/02/af/d41b625d00621e346844503cb1c27e3b0f9e5469e702276e5c1dfb236d03/qiskit_terra-0.9.0-cp36-cp36m-manylinux1_x86_64.whl (1.6MB)\n",
            "\u001b[K     |████████████████████████████████| 1.6MB 2.8MB/s \n",
            "\u001b[?25hCollecting qiskit-aer==0.3.0\n",
            "\u001b[?25l  Downloading https://files.pythonhosted.org/packages/6f/0e/1d7668ffafb85b373bc8681f3f6adffacd957a258a4a7211178cfc7e8559/qiskit_aer-0.3.0-cp36-cp36m-manylinux1_x86_64.whl (21.6MB)\n",
            "\u001b[K     |████████████████████████████████| 21.6MB 1.4MB/s \n",
            "\u001b[?25hCollecting qiskit-ibmq-provider==0.3.2\n",
            "\u001b[?25l  Downloading https://files.pythonhosted.org/packages/bb/eb/9c3e007c625b136c66a3f6da73f682f6ec32f6ee8274d998d84ec51cf3be/qiskit_ibmq_provider-0.3.2-py3-none-any.whl (85kB)\n",
            "\u001b[K     |████████████████████████████████| 92kB 10.3MB/s \n",
            "\u001b[?25hCollecting qiskit-ignis==0.2.0\n",
            "\u001b[?25l  Downloading https://files.pythonhosted.org/packages/78/f2/f4f89c65d2c13f473092f7e800519836611ddeeaab8d4591a70555b26a37/qiskit_ignis-0.2.0-py3-none-any.whl (100kB)\n",
            "\u001b[K     |████████████████████████████████| 102kB 12.1MB/s \n",
            "\u001b[?25hCollecting qiskit-aqua==0.6.0\n",
            "\u001b[?25l  Downloading https://files.pythonhosted.org/packages/5f/c0/894d00f156458edc5fd0dd559c07889c4bb3c8ca9ea17c921737bfcad6d9/qiskit_aqua-0.6.0-py3-none-any.whl (979kB)\n",
            "\u001b[K     |████████████████████████████████| 983kB 47.9MB/s \n",
            "\u001b[?25hCollecting marshmallow-polyfield<4,>=3.2\n",
            "  Downloading https://files.pythonhosted.org/packages/fa/ba/6406b8cce3e42b2838d234310c3605627083bbb8f71dcc312c616480fe92/marshmallow_polyfield-3.2-py2.py3-none-any.whl\n",
            "Collecting ply>=3.10\n",
            "\u001b[?25l  Downloading https://files.pythonhosted.org/packages/a3/58/35da89ee790598a0700ea49b2a66594140f44dec458c07e8e3d4979137fc/ply-3.11-py2.py3-none-any.whl (49kB)\n",
            "\u001b[K     |████████████████████████████████| 51kB 6.1MB/s \n",
            "\u001b[?25hCollecting marshmallow<3,>=2.17.0\n",
            "\u001b[?25l  Downloading https://files.pythonhosted.org/packages/8d/5a/c8288b3fa34bfc5afeee56454db7c239b9d2f492c36172dafabf95c780af/marshmallow-2.21.0-py2.py3-none-any.whl (50kB)\n",
            "\u001b[K     |████████████████████████████████| 51kB 6.9MB/s \n",
            "\u001b[?25hCollecting sympy>=1.3\n",
            "\u001b[?25l  Downloading https://files.pythonhosted.org/packages/a4/ea/590e1f2c73a1b8f878a1398b0edbf261d660439a9f851accb39db73d8e2f/sympy-1.6-py3-none-any.whl (5.8MB)\n",
            "\u001b[K     |████████████████████████████████| 5.8MB 47.0MB/s \n",
            "\u001b[?25hRequirement already satisfied: numpy>=1.13 in /usr/local/lib/python3.6/dist-packages (from qiskit_terra==0.9.0->qiskit==0.12.0) (1.18.4)\n",
            "Requirement already satisfied: jsonschema<2.7,>=2.6 in /usr/local/lib/python3.6/dist-packages (from qiskit_terra==0.9.0->qiskit==0.12.0) (2.6.0)\n",
            "Requirement already satisfied: psutil>=5 in /usr/local/lib/python3.6/dist-packages (from qiskit_terra==0.9.0->qiskit==0.12.0) (5.4.8)\n",
            "Requirement already satisfied: scipy>=1.0 in /usr/local/lib/python3.6/dist-packages (from qiskit_terra==0.9.0->qiskit==0.12.0) (1.4.1)\n",
            "Requirement already satisfied: networkx>=2.2 in /usr/local/lib/python3.6/dist-packages (from qiskit_terra==0.9.0->qiskit==0.12.0) (2.4)\n",
            "Collecting websockets<8,>=7\n",
            "\u001b[?25l  Downloading https://files.pythonhosted.org/packages/43/71/8bfa882b9c502c36e5c9ef6732969533670d2b039cbf95a82ced8f762b80/websockets-7.0-cp36-cp36m-manylinux1_x86_64.whl (63kB)\n",
            "\u001b[K     |████████████████████████████████| 71kB 9.1MB/s \n",
            "\u001b[?25hCollecting nest-asyncio==1.0.0\n",
            "  Downloading https://files.pythonhosted.org/packages/62/18/4c6a895c925e8822e72535d774861e9ca07089c4b938ed20002b1aaab66a/nest_asyncio-1.0.0-py3-none-any.whl\n",
            "Collecting requests-ntlm>=1.1.0\n",
            "  Downloading https://files.pythonhosted.org/packages/03/4b/8b9a1afde8072c4d5710d9fa91433d504325821b038e00237dc8d6d833dc/requests_ntlm-1.1.0-py2.py3-none-any.whl\n",
            "Requirement already satisfied: requests>=2.19 in /usr/local/lib/python3.6/dist-packages (from qiskit-ibmq-provider==0.3.2->qiskit==0.12.0) (2.23.0)\n",
            "Requirement already satisfied: setuptools>=40.1.0 in /usr/local/lib/python3.6/dist-packages (from qiskit-ignis==0.2.0->qiskit==0.12.0) (46.3.0)\n",
            "Collecting pyscf; sys_platform != \"win32\"\n",
            "\u001b[?25l  Downloading https://files.pythonhosted.org/packages/15/d7/85ba667b372ad46b6c9ba84969dc4d0c396bbf4f3ca2403a25e6ff506b57/pyscf-1.7.2.post2-cp36-cp36m-manylinux1_x86_64.whl (26.0MB)\n",
            "\u001b[K     |████████████████████████████████| 26.0MB 66.8MB/s \n",
            "\u001b[?25hRequirement already satisfied: fastdtw in /usr/local/lib/python3.6/dist-packages (from qiskit-aqua==0.6.0->qiskit==0.12.0) (0.3.4)\n",
            "Requirement already satisfied: cvxopt in /usr/local/lib/python3.6/dist-packages (from qiskit-aqua==0.6.0->qiskit==0.12.0) (1.2.5)\n",
            "Collecting dlx\n",
            "  Downloading https://files.pythonhosted.org/packages/54/c0/b8fb5bb727e983b6f5251433ef941b48f38c65bb0bd6ec509e9185bcd406/dlx-1.0.4.tar.gz\n",
            "Collecting quandl\n",
            "  Downloading https://files.pythonhosted.org/packages/07/ab/8cd479fba8a9b197a43a0d55dd534b066fb8e5a0a04b5c0384cbc5d663aa/Quandl-3.5.0-py2.py3-none-any.whl\n",
            "Requirement already satisfied: h5py in /usr/local/lib/python3.6/dist-packages (from qiskit-aqua==0.6.0->qiskit==0.12.0) (2.10.0)\n",
            "Collecting docplex\n",
            "\u001b[?25l  Downloading https://files.pythonhosted.org/packages/00/06/ad4441a00b8a9ff415882ff31273fe6519034879b6c2b65c47758a0278d5/docplex-2.14.186.tar.gz (572kB)\n",
            "\u001b[K     |████████████████████████████████| 573kB 43.3MB/s \n",
            "\u001b[?25hRequirement already satisfied: scikit-learn>=0.20.0 in /usr/local/lib/python3.6/dist-packages (from qiskit-aqua==0.6.0->qiskit==0.12.0) (0.22.2.post1)\n",
            "Requirement already satisfied: mpmath>=0.19 in /usr/local/lib/python3.6/dist-packages (from sympy>=1.3->qiskit_terra==0.9.0->qiskit==0.12.0) (1.1.0)\n",
            "Requirement already satisfied: decorator>=4.3.0 in /usr/local/lib/python3.6/dist-packages (from networkx>=2.2->qiskit_terra==0.9.0->qiskit==0.12.0) (4.4.2)\n",
            "Collecting cryptography>=1.3\n",
            "\u001b[?25l  Downloading https://files.pythonhosted.org/packages/3c/04/686efee2dcdd25aecf357992e7d9362f443eb182ecd623f882bc9f7a6bba/cryptography-2.9.2-cp35-abi3-manylinux2010_x86_64.whl (2.7MB)\n",
            "\u001b[K     |████████████████████████████████| 2.7MB 41.0MB/s \n",
            "\u001b[?25hCollecting ntlm-auth>=1.0.2\n",
            "  Downloading https://files.pythonhosted.org/packages/50/09/5e397eb18685b14fd8b209e26cdb4fa6451c82c1bcc651fef05fa73e7b27/ntlm_auth-1.4.0-py2.py3-none-any.whl\n",
            "Requirement already satisfied: urllib3!=1.25.0,!=1.25.1,<1.26,>=1.21.1 in /usr/local/lib/python3.6/dist-packages (from requests>=2.19->qiskit-ibmq-provider==0.3.2->qiskit==0.12.0) (1.24.3)\n",
            "Requirement already satisfied: chardet<4,>=3.0.2 in /usr/local/lib/python3.6/dist-packages (from requests>=2.19->qiskit-ibmq-provider==0.3.2->qiskit==0.12.0) (3.0.4)\n",
            "Requirement already satisfied: idna<3,>=2.5 in /usr/local/lib/python3.6/dist-packages (from requests>=2.19->qiskit-ibmq-provider==0.3.2->qiskit==0.12.0) (2.9)\n",
            "Requirement already satisfied: certifi>=2017.4.17 in /usr/local/lib/python3.6/dist-packages (from requests>=2.19->qiskit-ibmq-provider==0.3.2->qiskit==0.12.0) (2020.4.5.1)\n",
            "Collecting inflection>=0.3.1\n",
            "  Downloading https://files.pythonhosted.org/packages/52/c1/36be286d85dbd76527fb613527222a795d7c071da195fa916e7bf3cb03cb/inflection-0.4.0-py2.py3-none-any.whl\n",
            "Requirement already satisfied: pandas>=0.14 in /usr/local/lib/python3.6/dist-packages (from quandl->qiskit-aqua==0.6.0->qiskit==0.12.0) (1.0.3)\n",
            "Requirement already satisfied: six in /usr/local/lib/python3.6/dist-packages (from quandl->qiskit-aqua==0.6.0->qiskit==0.12.0) (1.12.0)\n",
            "Requirement already satisfied: python-dateutil in /usr/local/lib/python3.6/dist-packages (from quandl->qiskit-aqua==0.6.0->qiskit==0.12.0) (2.8.1)\n",
            "Requirement already satisfied: more-itertools in /usr/local/lib/python3.6/dist-packages (from quandl->qiskit-aqua==0.6.0->qiskit==0.12.0) (8.3.0)\n",
            "Requirement already satisfied: joblib>=0.11 in /usr/local/lib/python3.6/dist-packages (from scikit-learn>=0.20.0->qiskit-aqua==0.6.0->qiskit==0.12.0) (0.15.1)\n",
            "Requirement already satisfied: cffi!=1.11.3,>=1.8 in /usr/local/lib/python3.6/dist-packages (from cryptography>=1.3->requests-ntlm>=1.1.0->qiskit-ibmq-provider==0.3.2->qiskit==0.12.0) (1.14.0)\n",
            "Requirement already satisfied: pytz>=2017.2 in /usr/local/lib/python3.6/dist-packages (from pandas>=0.14->quandl->qiskit-aqua==0.6.0->qiskit==0.12.0) (2018.9)\n",
            "Requirement already satisfied: pycparser in /usr/local/lib/python3.6/dist-packages (from cffi!=1.11.3,>=1.8->cryptography>=1.3->requests-ntlm>=1.1.0->qiskit-ibmq-provider==0.3.2->qiskit==0.12.0) (2.20)\n",
            "Building wheels for collected packages: qiskit, dlx, docplex\n",
            "  Building wheel for qiskit (setup.py) ... \u001b[?25l\u001b[?25hdone\n",
            "  Created wheel for qiskit: filename=qiskit-0.12.0-cp36-none-any.whl size=1397 sha256=b0e62cbdf1ce1d1f61d4d00615ea596f00ecd5c8e6ceb8375a2f82934710b0de\n",
            "  Stored in directory: /root/.cache/pip/wheels/de/fc/68/2318ad43f26583ec1ac8e30bedd43e71211c9256429b7f829c\n",
            "  Building wheel for dlx (setup.py) ... \u001b[?25l\u001b[?25hdone\n",
            "  Created wheel for dlx: filename=dlx-1.0.4-cp36-none-any.whl size=5712 sha256=9bd89f69626f1b4ce1760624539b8fa8ae5bcc0cfb1e0416a9661ed6d8c4cd3d\n",
            "  Stored in directory: /root/.cache/pip/wheels/bb/ba/15/fdd0deb104df3254912998150ba9245668db06b00af5912d1a\n",
            "  Building wheel for docplex (setup.py) ... \u001b[?25l\u001b[?25hdone\n",
            "  Created wheel for docplex: filename=docplex-2.14.186-cp36-none-any.whl size=634442 sha256=6b9c8c13c7e3abd2c7071fb62db8b5f56591aafadf84acc3d2b0d8d8273135e4\n",
            "  Stored in directory: /root/.cache/pip/wheels/aa/28/cd/ba75f92d49b25dacec6b80f99efcc393dc84abf33f96632ac4\n",
            "Successfully built qiskit dlx docplex\n",
            "Installing collected packages: marshmallow, marshmallow-polyfield, ply, sympy, qiskit-terra, qiskit-aer, websockets, nest-asyncio, cryptography, ntlm-auth, requests-ntlm, qiskit-ibmq-provider, qiskit-ignis, pyscf, dlx, inflection, quandl, docplex, qiskit-aqua, qiskit\n",
            "  Found existing installation: sympy 1.1.1\n",
            "    Uninstalling sympy-1.1.1:\n",
            "      Successfully uninstalled sympy-1.1.1\n",
            "Successfully installed cryptography-2.9.2 dlx-1.0.4 docplex-2.14.186 inflection-0.4.0 marshmallow-2.21.0 marshmallow-polyfield-3.2 nest-asyncio-1.0.0 ntlm-auth-1.4.0 ply-3.11 pyscf-1.7.2.post2 qiskit-0.12.0 qiskit-aer-0.3.0 qiskit-aqua-0.6.0 qiskit-ibmq-provider-0.3.2 qiskit-ignis-0.2.0 qiskit-terra-0.9.0 quandl-3.5.0 requests-ntlm-1.1.0 sympy-1.6 websockets-7.0\n"
          ],
          "name": "stdout"
        }
      ]
    },
    {
      "cell_type": "code",
      "metadata": {
        "id": "d0Q-8jmh-n-x"
      },
      "source": [
        "# initialization\n",
        "import matplotlib.pyplot as plt\n",
        "%matplotlib inline\n",
        "import numpy as np\n",
        "import sympy as sp\n",
        "from sympy.physics.quantum import TensorProduct\n",
        "from sympy.core.numbers import I\n",
        "\n",
        "# importing Qiskit\n",
        "from qiskit import IBMQ, BasicAer, Aer\n",
        "from qiskit.providers.ibmq import least_busy\n",
        "from qiskit import QuantumCircuit, ClassicalRegister, QuantumRegister, execute\n",
        "from qiskit.providers.aer.noise import NoiseModel\n",
        "from qiskit.providers.aer.noise.errors import pauli_error\n",
        "\n",
        "# import basic plot tools\n",
        "from qiskit.tools.visualization import plot_histogram"
      ],
      "execution_count": null,
      "outputs": []
    },
    {
      "cell_type": "code",
      "metadata": {
        "id": "m4Q3ea8g-n-0"
      },
      "source": [
        "def preparation(circuit, n, idx) :\n",
        "    for i in range(n) :\n",
        "        circuit.ry(trans1_y[idx],i)\n",
        "        circuit.rz(trans1_z[idx],i)\n",
        "    circuit.barrier()\n",
        "    \n",
        "def entangling_gate(circuit, n) : #u_ent\n",
        "    for i in range(n-1) :\n",
        "        circuit.cz(i,i+1)\n",
        "    circuit.cz(n-1,0)\n",
        "\n",
        "def local_unitary(circuit, n, col) : #u_loc\n",
        "    for i in range(n) :\n",
        "        circuit.ry(weight[col],i)\n",
        "        circuit.rz(weight[col],i)\n",
        "\n",
        "def variational_circuit(circuit,n,l) :\n",
        "    local_unitary(circuit,n, 0)\n",
        "    circuit.barrier()\n",
        "    for loc in range (l) :\n",
        "        entangling_gate(circuit,n)\n",
        "        local_unitary(circuit,n,loc+1)\n",
        "        circuit.barrier()\n",
        "\n",
        "def forcasting(prob,n) :\n",
        "    forcastlist = []\n",
        "    result = list(prob.keys())\n",
        "    for qubit in range(n) :\n",
        "        prob_0 = 0 ; prob_1 = 0\n",
        "        for bnr in result :\n",
        "            if bnr[n-1-qubit] == '0' :\n",
        "                prob_0 += prob[bnr]/2048\n",
        "            else :\n",
        "                prob_1 += prob[bnr]/2048\n",
        "        forcast = 2*(prob_0 + (-1)*prob_1) #inside is expected value\n",
        "        forcastlist.append(forcast)\n",
        "    return forcastlist\n",
        "\n",
        "def distributed_error(error,n) :\n",
        "    dzdp = []\n",
        "    for state in range(2**n) :\n",
        "        row = []\n",
        "        for qb in range(n) :\n",
        "            if state//(2**qb)%2 == 0 : row.append(1)\n",
        "            else : row.append(-1)\n",
        "        dzdp.append(row)\n",
        "    dL_dp = np.array(dzdp).dot(np.transpose(error))/n\n",
        "    return dL_dp\n",
        "\n",
        "def forcasting0(prob,n) :\n",
        "    prob_0 = 0 ; prob_1 = 0\n",
        "    result = list(prob.keys())\n",
        "    for bnr in result :\n",
        "        if bnr[n-1] == '0' :\n",
        "            prob_0 += prob[bnr]/2048\n",
        "        else :\n",
        "            prob_1 += prob[bnr]/2048\n",
        "    forcast = 2*(prob_0 + (-1)*prob_1) #inside is expected value\n",
        "    return forcast"
      ],
      "execution_count": null,
      "outputs": []
    },
    {
      "cell_type": "markdown",
      "metadata": {
        "id": "2uWMm_bw-n-2"
      },
      "source": [
        "## Regression Circuit"
      ]
    },
    {
      "cell_type": "code",
      "metadata": {
        "id": "HqinFi-H-n-3",
        "colab": {
          "base_uri": "https://localhost:8080/",
          "height": 35
        },
        "outputId": "3a523776-a02b-4dc2-b21f-8e786854f394"
      },
      "source": [
        "def condition(turn) :\n",
        "  return turn%10==0\n",
        "\n",
        "##### Input\n",
        "#case: n=3, l=3\n",
        "N = 3\n",
        "L = 3\n",
        "#mode = 'y' # y or z\n",
        "no_training = 121\n",
        "\n",
        "##### Training Data\n",
        "#f(x) = x\n",
        "domain = np.linspace(-1,1,10)\n",
        "preimage = domain*1\n",
        "trans1_z = np.arccos(domain**2)\n",
        "trans1_y = np.arcsin(domain)\n",
        "\n",
        "##### Matrix Collection\n",
        "x = sp.Symbol(\"x\", real=True) \n",
        "ry_gate = sp.Matrix([[sp.cos(x/2) , -sp.sin(x/2)],\n",
        "                                  [sp.sin(x/2) , sp.cos(x/2)]])\n",
        "rz_gate = sp.Matrix([[     1,     0],\n",
        "                                  [     0,     sp.exp(I*x)]])\n",
        "rzy_gate = rz_gate * ry_gate\n",
        "prepared_y =  sp.Matrix([[1]])\n",
        "prepared_z = sp.Matrix([[1]])\n",
        "uloc = sp.Matrix([[1]])\n",
        "for i in range(N) : \n",
        "    prepared_y = TensorProduct(prepared_y,ry_gate)\n",
        "    prepared_z = TensorProduct(prepared_z,rz_gate)\n",
        "    uloc = TensorProduct(uloc,rzy_gate)\n",
        "uloc_diff = uloc.diff(x)\n",
        "\n",
        "uc = QuantumCircuit(N,N)\n",
        "for i in range(N-1) :\n",
        "    uc.cz(i,i+1)\n",
        "uc.cz(N-1,0)\n",
        "from qiskit.quantum_info import Operator\n",
        "uent = np.array(Operator(uc).data)\n",
        "\n",
        "##### Weight \n",
        "# np.random.seed(0)\n",
        "weight = 2*np.pi*np.random.random(L+1)  # uloc_theta: dim = 1x(L+1)\n",
        "print(weight)\n",
        "\n",
        "##### Result of Prediction\n",
        "last_result = []\n",
        "\n",
        "##### Noise Model\n",
        "error_meas = pauli_error([('Y',0.018), ('Z', 0.018), ('I', 1-0.036)])\n",
        "noise_model = NoiseModel()\n",
        "noise_model.add_all_qubit_quantum_error(error_meas, \"measure\")"
      ],
      "execution_count": null,
      "outputs": [
        {
          "output_type": "stream",
          "text": [
            "[6.0548717  2.40923412 4.97455513 3.32314479]\n"
          ],
          "name": "stdout"
        }
      ]
    },
    {
      "cell_type": "code",
      "metadata": {
        "id": "NEAnoEl1-n-5",
        "colab": {
          "base_uri": "https://localhost:8080/",
          "height": 35
        },
        "outputId": "3c5a5d71-662d-488c-d31c-5ca512a35279"
      },
      "source": [
        "from qiskit.providers.aer import noise\n",
        "for turn in range(no_training) :\n",
        "    temp = []\n",
        "    for idx in range(len(domain)) :\n",
        "        ###Preparing Matrix\n",
        "        begin = np.zeros((2**N,1)) ; begin[0] = 1\n",
        "        prepared = prepared_z.subs(x,trans1_z[idx]) * prepared_y.subs(x,trans1_y[idx])\n",
        "        wf_in = np.array(prepared, dtype=np.complex).dot(begin)\n",
        "        statelist = [] ; statelist.append(wf_in)\n",
        "        for i in range(L) :\n",
        "            wf_in = np.array(uloc.subs(x,weight[i]), dtype=np.complex).dot(wf_in)\n",
        "            wf_in = uent.dot(wf_in)\n",
        "            statelist.append(wf_in)\n",
        "        wf_out = np.array(uloc.subs(x,weight[L]), dtype=np.complex).dot(wf_in)\n",
        "        #print(\"Preparing Finished\")\n",
        "        ###Quantum Circuit\n",
        "        qc = QuantumCircuit(N,N)\n",
        "        preparation(qc,N,idx)\n",
        "        variational_circuit(qc,N,L)\n",
        "        for i in range(N) :\n",
        "            qc.measure(i,i)\n",
        "        ###Simulation&Find error\n",
        "        prob = execute(qc,Aer.get_backend('qasm_simulator'),shots=2048\n",
        "             #,noise_model=noise_model, \n",
        "             ).result().get_counts()    #Qasm cannot count and get statevector in the same time \n",
        "        ###\n",
        "        # forcasted = np.array(forcasting(prob,N))\n",
        "        # error = forcasted - np.full((1,N), preimage[idx])\n",
        "        # dL_dp = distributed_error(error,N)\n",
        "        ###\n",
        "        forcasted = forcasting0(prob,N)\n",
        "        error = forcasted - preimage[idx]\n",
        "        dL_dp = np.full((2**N,1), error) * np.kron( np.full((2**N//2,1),1), np.array([[1],[-1]]))\n",
        "        ###\n",
        "        if condition(turn) :\n",
        "            # temp.append(forcasted[0])\n",
        "            temp.append(forcasted)\n",
        "        ###Backpropagation\n",
        "        dL_dy = np.real(dL_dp * np.conjugate(wf_out)) #multiply mapping\n",
        "        all_one = np.ones((1,2**N)) \n",
        "        uent_t = np.array(uent.T)\n",
        "        for i in range(L,-1,-1) :\n",
        "            #Find Input Error\n",
        "            dL_dx = (np.array(uloc.subs(x,weight[i]).T, dtype=np.complex).dot(dL_dy)).real\n",
        "            #Find Weight Error\n",
        "            dL_dw = dL_dy.dot(np.transpose(statelist[i].real))\n",
        "            dL_dw = np.multiply(dL_dw, np.real(np.array(uloc_diff.subs(x,weight[i]), dtype=np.complex))) \n",
        "            dL_dtheta = all_one.dot(dL_dw.dot(np.transpose(all_one)))\n",
        "            weight[i] += float(dL_dtheta[0][0])\n",
        "            #####\n",
        "            dL_dy = dL_dx\n",
        "            # if i > 0 :\n",
        "            #     dL_dy = uent_t.dot(dL_dy)\n",
        "            #print(dL_dy)\n",
        "    if condition(turn) :\n",
        "        last_result.append(temp)\n",
        "\n",
        "print(\"Training is finished\")"
      ],
      "execution_count": null,
      "outputs": [
        {
          "output_type": "stream",
          "text": [
            "Training is finished\n"
          ],
          "name": "stdout"
        }
      ]
    },
    {
      "cell_type": "code",
      "metadata": {
        "scrolled": false,
        "id": "vOvHDKk8-n-7",
        "colab": {
          "base_uri": "https://localhost:8080/",
          "height": 458
        },
        "outputId": "8a3a00b3-7809-4477-f9f7-ca51516820b3"
      },
      "source": [
        "qc.draw(output='mpl')"
      ],
      "execution_count": null,
      "outputs": [
        {
          "output_type": "execute_result",
          "data": {
            "image/png": "[encoded data removed]",
            "text/plain": [
              "<Figure size 1661.52x565.88 with 1 Axes>"
            ]
          },
          "metadata": {
            "tags": []
          },
          "execution_count": 6
        }
      ]
    },
    {
      "cell_type": "code",
      "metadata": {
        "id": "Re33HGoJ-n-9",
        "colab": {
          "base_uri": "https://localhost:8080/",
          "height": 55
        },
        "outputId": "67d8c90b-7403-420a-c88c-b33736956b27"
      },
      "source": [
        "print(last_result)"
      ],
      "execution_count": null,
      "outputs": [
        {
          "output_type": "stream",
          "text": [
            "[[-0.162109375, 0.09765625, 0.025390625, 0.34765625, 0.640625, 0.685546875, 1.203125, 1.244140625, 0.7890625, -0.5078125], [-1.044921875, -0.76953125, -0.439453125, -0.302734375, -0.16796875, 0.017578125, 0.107421875, 0.185546875, -0.09765625, 1.05078125], [-0.5703125, 0.287109375, 0.30859375, 0.2265625, 0.087890625, 0.236328125, 0.14453125, 0.26171875, 0.296875, 1.443359375], [-0.775390625, -1.01953125, -0.83203125, -0.603515625, -0.388671875, -0.11328125, 0.03125, -0.14453125, -0.359375, 0.59375], [-0.361328125, -0.98046875, -0.712890625, -0.330078125, -0.177734375, -0.015625, 0.14453125, 0.138671875, -0.091796875, 1.02734375], [-0.951171875, -0.30859375, -0.0078125, -0.318359375, -0.255859375, -0.2265625, -0.083984375, 0.390625, 0.533203125, 0.154296875], [-1.02734375, -0.650390625, -0.30078125, -0.2109375, -0.177734375, 0.001953125, 0.048828125, 0.1796875, 0.0390625, 1.021484375], [-0.857421875, -0.890625, -0.681640625, -0.466796875, -0.080078125, 0.22265625, 0.4921875, 0.791015625, 0.798828125, 0.927734375], [-1.044921875, -0.349609375, 0.111328125, -0.107421875, -0.068359375, 0.0703125, 0.0625, 0.03125, 0.23828125, 0.64453125], [-0.955078125, -0.79296875, -0.365234375, -0.001953125, 0.06640625, 0.21484375, 0.13671875, 0.330078125, 0.416015625, 1.357421875], [-0.216796875, 0.986328125, 0.744140625, 1.8671875, 1.59765625, 1.01953125, 1.703125, 1.552734375, 0.97265625, -0.3671875], [1.4375, 0.703125, 0.2578125, 0.041015625, -0.111328125, -0.0390625, 0.0, -0.087890625, -0.1015625, -0.44921875], [0.556640625, 1.123046875, 1.51171875, 1.216796875, 1.30859375, 1.345703125, 1.740234375, 1.212890625, 0.9609375, -0.3515625], [-0.744140625, -0.50390625, -0.857421875, -0.763671875, 0.185546875, 0.04296875, 0.39453125, 0.662109375, 0.697265625, 0.3828125], [-0.0703125, 0.244140625, -0.4296875, -0.388671875, -0.328125, -0.125, 0.177734375, 0.654296875, 0.87890625, 0.2421875], [-0.265625, 0.388671875, -0.787109375, -0.7734375, -0.392578125, -0.01171875, 0.34375, 0.5234375, 0.927734375, 0.51953125], [-0.1484375, 0.26953125, -0.76171875, -0.59765625, -0.33984375, -0.013671875, 0.244140625, 0.572265625, 0.951171875, 0.494140625], [-0.62109375, -1.107421875, -0.55078125, -0.322265625, -0.16796875, 0.080078125, 0.3515625, 0.4453125, 0.51953125, 1.029296875], [-0.849609375, -1.009765625, -0.56640625, -0.271484375, -0.080078125, 0.205078125, 0.296875, 0.626953125, 0.66796875, 0.71875], [-0.9921875, -0.87109375, -0.6953125, -0.3125, -0.041015625, 0.234375, 0.4921875, 0.701171875, 0.669921875, 0.6796875]]\n"
          ],
          "name": "stdout"
        }
      ]
    },
    {
      "cell_type": "code",
      "metadata": {
        "id": "2Q4Of5GU-n-_",
        "colab": {
          "base_uri": "https://localhost:8080/",
          "height": 276
        },
        "outputId": "d3287aa4-60a1-48fc-b519-35ec41327643"
      },
      "source": [
        "fig = plt.figure()\n",
        "ax = fig.add_subplot(1, 1, 1)\n",
        "ax.spines['left'].set_position('zero')\n",
        "ax.spines['bottom'].set_position('zero')\n",
        "ax.spines['right'].set_color('none')\n",
        "ax.spines['top'].set_color('none')\n",
        "ax.xaxis.set_ticks_position('bottom')\n",
        "ax.yaxis.set_ticks_position('left')\n",
        "plt.axis([-1.5,1.5,-1.5,1.5])\n",
        "\n",
        "plt.plot(domain,last_result[10],'ro')\n",
        "plt.plot(domain, preimage, 'm')\n",
        "#plt.plot(ans)"
      ],
      "execution_count": null,
      "outputs": [
        {
          "output_type": "execute_result",
          "data": {
            "text/plain": [
              "[<matplotlib.lines.Line2D at 0x7ff8f0df92b0>]"
            ]
          },
          "metadata": {
            "tags": []
          },
          "execution_count": 104
        },
        {
          "output_type": "display_data",
          "data": {
            "image/png": "[encoded data removed]",
            "text/plain": [
              "<Figure size 432x288 with 1 Axes>"
            ]
          },
          "metadata": {
            "tags": [],
            "needs_background": "light"
          }
        }
      ]
    },
    {
      "cell_type": "code",
      "metadata": {
        "id": "KW5ut_1wOr8A",
        "colab": {
          "base_uri": "https://localhost:8080/",
          "height": 517
        },
        "outputId": "759de551-3f1e-4372-8f21-72b8b220f18e"
      },
      "source": [
        "mean_square_error = []\n",
        "for idx in range(0,len(last_result)) :\n",
        "  all_error = 0\n",
        "  for j in range(len(last_result[idx])) :\n",
        "    all_error += (last_result[idx][j] - preimage[j])**2\n",
        "  all_error /= len(preimage)\n",
        "  mean_square_error.append('%.4f'%(all_error))\n",
        "\n",
        "import plotly.graph_objects as go\n",
        "each_training = np.arange(0,no_training,10)\n",
        "fig = go.Figure(data=[go.Table(\n",
        "    header=dict(values=['No. of Training', 'Mean Square Error'], line_color='darkslategray',\n",
        "                fill_color='lightskyblue', align='left'),\n",
        "    cells=dict(values=[each_training, mean_square_error], line_color='darkslategray',\n",
        "               fill_color='lightyellow', align='left'))\n",
        "])\n",
        "fig.update_layout(width=500, height=500)\n",
        "fig.show()"
      ],
      "execution_count": null,
      "outputs": [
        {
          "output_type": "display_data",
          "data": {
            "text/html": [
              "<html>\n",
              "<head><meta charset=\"utf-8\" /></head>\n",
              "<body>\n",
              "    <div>\n",
              "            <script src=\"https://cdnjs.cloudflare.com/ajax/libs/mathjax/2.7.5/MathJax.js?config=TeX-AMS-MML_SVG\"></script><script type=\"text/javascript\">if (window.MathJax) {MathJax.Hub.Config({SVG: {font: \"STIX-Web\"}});}</script>\n",
              "                <script type=\"text/javascript\">window.PlotlyConfig = {MathJaxConfig: 'local'};</script>\n",
              "        <script src=\"https://cdn.plot.ly/plotly-latest.min.js\"></script>    \n",
              "            <div id=\"c4b64933-ed40-4766-b7ac-88717729c674\" class=\"plotly-graph-div\" style=\"height:500px; width:500px;\"></div>\n",
              "            <script type=\"text/javascript\">\n",
              "                \n",
              "                    window.PLOTLYENV=window.PLOTLYENV || {};\n",
              "                    \n",
              "                if (document.getElementById(\"c4b64933-ed40-4766-b7ac-88717729c674\")) {\n",
              "                    Plotly.newPlot(\n",
              "                        'c4b64933-ed40-4766-b7ac-88717729c674',\n",
              "                        [{\"cells\": {\"align\": \"left\", \"fill\": {\"color\": \"lightyellow\"}, \"line\": {\"color\": \"darkslategray\"}, \"values\": [[0, 10, 20, 30, 40, 50, 60, 70, 80, 90, 100, 110, 120], [\"0.1095\", \"0.5304\", \"0.3116\", \"1.7015\", \"1.3339\", \"1.2705\", \"1.9044\", \"2.2015\", \"2.5117\", \"2.2762\", \"2.0483\", \"1.9166\", \"1.5525\"]]}, \"header\": {\"align\": \"left\", \"fill\": {\"color\": \"lightskyblue\"}, \"line\": {\"color\": \"darkslategray\"}, \"values\": [\"No. of Training\", \"Mean Square Error\"]}, \"type\": \"table\"}],\n",
              "                        {\"height\": 500, \"template\": {\"data\": {\"bar\": [{\"error_x\": {\"color\": \"#2a3f5f\"}, \"error_y\": {\"color\": \"#2a3f5f\"}, \"marker\": {\"line\": {\"color\": \"#E5ECF6\", \"width\": 0.5}}, \"type\": \"bar\"}], \"barpolar\": [{\"marker\": {\"line\": {\"color\": \"#E5ECF6\", \"width\": 0.5}}, \"type\": \"barpolar\"}], \"carpet\": [{\"aaxis\": {\"endlinecolor\": \"#2a3f5f\", \"gridcolor\": \"white\", \"linecolor\": \"white\", \"minorgridcolor\": \"white\", \"startlinecolor\": \"#2a3f5f\"}, \"baxis\": {\"endlinecolor\": \"#2a3f5f\", \"gridcolor\": \"white\", \"linecolor\": \"white\", \"minorgridcolor\": \"white\", \"startlinecolor\": \"#2a3f5f\"}, \"type\": \"carpet\"}], \"choropleth\": [{\"colorbar\": {\"outlinewidth\": 0, \"ticks\": \"\"}, \"type\": \"choropleth\"}], \"contour\": [{\"colorbar\": {\"outlinewidth\": 0, \"ticks\": \"\"}, \"colorscale\": [[0.0, \"#0d0887\"], [0.1111111111111111, \"#46039f\"], [0.2222222222222222, \"#7201a8\"], [0.3333333333333333, \"#9c179e\"], [0.4444444444444444, \"#bd3786\"], [0.5555555555555556, \"#d8576b\"], [0.6666666666666666, \"#ed7953\"], [0.7777777777777778, \"#fb9f3a\"], [0.8888888888888888, \"#fdca26\"], [1.0, \"#f0f921\"]], \"type\": \"contour\"}], \"contourcarpet\": [{\"colorbar\": {\"outlinewidth\": 0, \"ticks\": \"\"}, \"type\": \"contourcarpet\"}], \"heatmap\": [{\"colorbar\": {\"outlinewidth\": 0, \"ticks\": \"\"}, \"colorscale\": [[0.0, \"#0d0887\"], [0.1111111111111111, \"#46039f\"], [0.2222222222222222, \"#7201a8\"], [0.3333333333333333, \"#9c179e\"], [0.4444444444444444, \"#bd3786\"], [0.5555555555555556, \"#d8576b\"], [0.6666666666666666, \"#ed7953\"], [0.7777777777777778, \"#fb9f3a\"], [0.8888888888888888, \"#fdca26\"], [1.0, \"#f0f921\"]], \"type\": \"heatmap\"}], \"heatmapgl\": [{\"colorbar\": {\"outlinewidth\": 0, \"ticks\": \"\"}, \"colorscale\": [[0.0, \"#0d0887\"], [0.1111111111111111, \"#46039f\"], [0.2222222222222222, \"#7201a8\"], [0.3333333333333333, \"#9c179e\"], [0.4444444444444444, \"#bd3786\"], [0.5555555555555556, \"#d8576b\"], [0.6666666666666666, \"#ed7953\"], [0.7777777777777778, \"#fb9f3a\"], [0.8888888888888888, \"#fdca26\"], [1.0, \"#f0f921\"]], \"type\": \"heatmapgl\"}], \"histogram\": [{\"marker\": {\"colorbar\": {\"outlinewidth\": 0, \"ticks\": \"\"}}, \"type\": \"histogram\"}], \"histogram2d\": [{\"colorbar\": {\"outlinewidth\": 0, \"ticks\": \"\"}, \"colorscale\": [[0.0, \"#0d0887\"], [0.1111111111111111, \"#46039f\"], [0.2222222222222222, \"#7201a8\"], [0.3333333333333333, \"#9c179e\"], [0.4444444444444444, \"#bd3786\"], [0.5555555555555556, \"#d8576b\"], [0.6666666666666666, \"#ed7953\"], [0.7777777777777778, \"#fb9f3a\"], [0.8888888888888888, \"#fdca26\"], [1.0, \"#f0f921\"]], \"type\": \"histogram2d\"}], \"histogram2dcontour\": [{\"colorbar\": {\"outlinewidth\": 0, \"ticks\": \"\"}, \"colorscale\": [[0.0, \"#0d0887\"], [0.1111111111111111, \"#46039f\"], [0.2222222222222222, \"#7201a8\"], [0.3333333333333333, \"#9c179e\"], [0.4444444444444444, \"#bd3786\"], [0.5555555555555556, \"#d8576b\"], [0.6666666666666666, \"#ed7953\"], [0.7777777777777778, \"#fb9f3a\"], [0.8888888888888888, \"#fdca26\"], [1.0, \"#f0f921\"]], \"type\": \"histogram2dcontour\"}], \"mesh3d\": [{\"colorbar\": {\"outlinewidth\": 0, \"ticks\": \"\"}, \"type\": \"mesh3d\"}], \"parcoords\": [{\"line\": {\"colorbar\": {\"outlinewidth\": 0, \"ticks\": \"\"}}, \"type\": \"parcoords\"}], \"pie\": [{\"automargin\": true, \"type\": \"pie\"}], \"scatter\": [{\"marker\": {\"colorbar\": {\"outlinewidth\": 0, \"ticks\": \"\"}}, \"type\": \"scatter\"}], \"scatter3d\": [{\"line\": {\"colorbar\": {\"outlinewidth\": 0, \"ticks\": \"\"}}, \"marker\": {\"colorbar\": {\"outlinewidth\": 0, \"ticks\": \"\"}}, \"type\": \"scatter3d\"}], \"scattercarpet\": [{\"marker\": {\"colorbar\": {\"outlinewidth\": 0, \"ticks\": \"\"}}, \"type\": \"scattercarpet\"}], \"scattergeo\": [{\"marker\": {\"colorbar\": {\"outlinewidth\": 0, \"ticks\": \"\"}}, \"type\": \"scattergeo\"}], \"scattergl\": [{\"marker\": {\"colorbar\": {\"outlinewidth\": 0, \"ticks\": \"\"}}, \"type\": \"scattergl\"}], \"scattermapbox\": [{\"marker\": {\"colorbar\": {\"outlinewidth\": 0, \"ticks\": \"\"}}, \"type\": \"scattermapbox\"}], \"scatterpolar\": [{\"marker\": {\"colorbar\": {\"outlinewidth\": 0, \"ticks\": \"\"}}, \"type\": \"scatterpolar\"}], \"scatterpolargl\": [{\"marker\": {\"colorbar\": {\"outlinewidth\": 0, \"ticks\": \"\"}}, \"type\": \"scatterpolargl\"}], \"scatterternary\": [{\"marker\": {\"colorbar\": {\"outlinewidth\": 0, \"ticks\": \"\"}}, \"type\": \"scatterternary\"}], \"surface\": [{\"colorbar\": {\"outlinewidth\": 0, \"ticks\": \"\"}, \"colorscale\": [[0.0, \"#0d0887\"], [0.1111111111111111, \"#46039f\"], [0.2222222222222222, \"#7201a8\"], [0.3333333333333333, \"#9c179e\"], [0.4444444444444444, \"#bd3786\"], [0.5555555555555556, \"#d8576b\"], [0.6666666666666666, \"#ed7953\"], [0.7777777777777778, \"#fb9f3a\"], [0.8888888888888888, \"#fdca26\"], [1.0, \"#f0f921\"]], \"type\": \"surface\"}], \"table\": [{\"cells\": {\"fill\": {\"color\": \"#EBF0F8\"}, \"line\": {\"color\": \"white\"}}, \"header\": {\"fill\": {\"color\": \"#C8D4E3\"}, \"line\": {\"color\": \"white\"}}, \"type\": \"table\"}]}, \"layout\": {\"annotationdefaults\": {\"arrowcolor\": \"#2a3f5f\", \"arrowhead\": 0, \"arrowwidth\": 1}, \"coloraxis\": {\"colorbar\": {\"outlinewidth\": 0, \"ticks\": \"\"}}, \"colorscale\": {\"diverging\": [[0, \"#8e0152\"], [0.1, \"#c51b7d\"], [0.2, \"#de77ae\"], [0.3, \"#f1b6da\"], [0.4, \"#fde0ef\"], [0.5, \"#f7f7f7\"], [0.6, \"#e6f5d0\"], [0.7, \"#b8e186\"], [0.8, \"#7fbc41\"], [0.9, \"#4d9221\"], [1, \"#276419\"]], \"sequential\": [[0.0, \"#0d0887\"], [0.1111111111111111, \"#46039f\"], [0.2222222222222222, \"#7201a8\"], [0.3333333333333333, \"#9c179e\"], [0.4444444444444444, \"#bd3786\"], [0.5555555555555556, \"#d8576b\"], [0.6666666666666666, \"#ed7953\"], [0.7777777777777778, \"#fb9f3a\"], [0.8888888888888888, \"#fdca26\"], [1.0, \"#f0f921\"]], \"sequentialminus\": [[0.0, \"#0d0887\"], [0.1111111111111111, \"#46039f\"], [0.2222222222222222, \"#7201a8\"], [0.3333333333333333, \"#9c179e\"], [0.4444444444444444, \"#bd3786\"], [0.5555555555555556, \"#d8576b\"], [0.6666666666666666, \"#ed7953\"], [0.7777777777777778, \"#fb9f3a\"], [0.8888888888888888, \"#fdca26\"], [1.0, \"#f0f921\"]]}, \"colorway\": [\"#636efa\", \"#EF553B\", \"#00cc96\", \"#ab63fa\", \"#FFA15A\", \"#19d3f3\", \"#FF6692\", \"#B6E880\", \"#FF97FF\", \"#FECB52\"], \"font\": {\"color\": \"#2a3f5f\"}, \"geo\": {\"bgcolor\": \"white\", \"lakecolor\": \"white\", \"landcolor\": \"#E5ECF6\", \"showlakes\": true, \"showland\": true, \"subunitcolor\": \"white\"}, \"hoverlabel\": {\"align\": \"left\"}, \"hovermode\": \"closest\", \"mapbox\": {\"style\": \"light\"}, \"paper_bgcolor\": \"white\", \"plot_bgcolor\": \"#E5ECF6\", \"polar\": {\"angularaxis\": {\"gridcolor\": \"white\", \"linecolor\": \"white\", \"ticks\": \"\"}, \"bgcolor\": \"#E5ECF6\", \"radialaxis\": {\"gridcolor\": \"white\", \"linecolor\": \"white\", \"ticks\": \"\"}}, \"scene\": {\"xaxis\": {\"backgroundcolor\": \"#E5ECF6\", \"gridcolor\": \"white\", \"gridwidth\": 2, \"linecolor\": \"white\", \"showbackground\": true, \"ticks\": \"\", \"zerolinecolor\": \"white\"}, \"yaxis\": {\"backgroundcolor\": \"#E5ECF6\", \"gridcolor\": \"white\", \"gridwidth\": 2, \"linecolor\": \"white\", \"showbackground\": true, \"ticks\": \"\", \"zerolinecolor\": \"white\"}, \"zaxis\": {\"backgroundcolor\": \"#E5ECF6\", \"gridcolor\": \"white\", \"gridwidth\": 2, \"linecolor\": \"white\", \"showbackground\": true, \"ticks\": \"\", \"zerolinecolor\": \"white\"}}, \"shapedefaults\": {\"line\": {\"color\": \"#2a3f5f\"}}, \"ternary\": {\"aaxis\": {\"gridcolor\": \"white\", \"linecolor\": \"white\", \"ticks\": \"\"}, \"baxis\": {\"gridcolor\": \"white\", \"linecolor\": \"white\", \"ticks\": \"\"}, \"bgcolor\": \"#E5ECF6\", \"caxis\": {\"gridcolor\": \"white\", \"linecolor\": \"white\", \"ticks\": \"\"}}, \"title\": {\"x\": 0.05}, \"xaxis\": {\"automargin\": true, \"gridcolor\": \"white\", \"linecolor\": \"white\", \"ticks\": \"\", \"title\": {\"standoff\": 15}, \"zerolinecolor\": \"white\", \"zerolinewidth\": 2}, \"yaxis\": {\"automargin\": true, \"gridcolor\": \"white\", \"linecolor\": \"white\", \"ticks\": \"\", \"title\": {\"standoff\": 15}, \"zerolinecolor\": \"white\", \"zerolinewidth\": 2}}}, \"width\": 500},\n",
              "                        {\"responsive\": true}\n",
              "                    ).then(function(){\n",
              "                            \n",
              "var gd = document.getElementById('c4b64933-ed40-4766-b7ac-88717729c674');\n",
              "var x = new MutationObserver(function (mutations, observer) {{\n",
              "        var display = window.getComputedStyle(gd).display;\n",
              "        if (!display || display === 'none') {{\n",
              "            console.log([gd, 'removed!']);\n",
              "            Plotly.purge(gd);\n",
              "            observer.disconnect();\n",
              "        }}\n",
              "}});\n",
              "\n",
              "// Listen for the removal of the full notebook cells\n",
              "var notebookContainer = gd.closest('#notebook-container');\n",
              "if (notebookContainer) {{\n",
              "    x.observe(notebookContainer, {childList: true});\n",
              "}}\n",
              "\n",
              "// Listen for the clearing of the current output cell\n",
              "var outputEl = gd.closest('.output');\n",
              "if (outputEl) {{\n",
              "    x.observe(outputEl, {childList: true});\n",
              "}}\n",
              "\n",
              "                        })\n",
              "                };\n",
              "                \n",
              "            </script>\n",
              "        </div>\n",
              "</body>\n",
              "</html>"
            ]
          },
          "metadata": {
            "tags": []
          }
        }
      ]
    },
    {
      "cell_type": "code",
      "metadata": {
        "id": "ePsCmkOtLVD-"
      },
      "source": [
        ""
      ],
      "execution_count": null,
      "outputs": []
    }
  ]
}